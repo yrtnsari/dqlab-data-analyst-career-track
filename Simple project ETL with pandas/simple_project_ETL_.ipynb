{
  "cells": [
    {
      "cell_type": "markdown",
      "id": "6020af94",
      "metadata": {
        "id": "6020af94"
      },
      "source": [
        "# Simple Project ETL with Pandas "
      ]
    },
    {
      "cell_type": "markdown",
      "id": "2b0cf72a",
      "metadata": {
        "id": "2b0cf72a"
      },
      "source": [
        "Pada proyek kali ini, dilakukan pengolahan data pendaftar hackathon yang diselenggarakan oleh DQLab bernama DQThon.\n",
        "\n",
        "Dataset ini terdiri dari 5000 baris data (5000 pendaftar) dengan format CSV (Comma-separated values) dan memiliki beberapa kolom diantaranya:\n",
        "\n",
        "participant_id: ID dari peserta/partisipan hackathon. \n",
        "\n",
        "Kolom ini bersifat unique sehingga antar peserta pasti memiliki ID yang berbeda\n",
        "\n",
        "first_name: nama depan peserta\n",
        "\n",
        "last_name: nama belakang peserta\n",
        "\n",
        "birth_date: tanggal lahir peserta\n",
        "\n",
        "address: alamat tempat tinggal peserta\n",
        "\n",
        "phone_number: nomor hp/telepon peserta\n",
        "\n",
        "country: negara asal peserta\n",
        "\n",
        "institute: institusi peserta saat ini, bisa berupa nama perusahaan maupun nama universitas\n",
        "\n",
        "occupation: pekerjaan peserta saat ini\n",
        "\n",
        "register_time: waktu peserta melakukan pendaftaran hackathon dalam second\n",
        "\n",
        "Tujuan pada project ETL ini adalah untuk menghasilkan beberapa kolom dengan memanfaatkan kolom-kolom yang ada.\n",
        "Sehingga akhir dari proyek ini berupa hasil transformasi data dengan beberapa kolom baru selain dari 10 kolom diatas."
      ]
    },
    {
      "cell_type": "markdown",
      "id": "0827cde0",
      "metadata": {
        "id": "0827cde0"
      },
      "source": [
        "# Transform Data"
      ]
    },
    {
      "cell_type": "code",
      "execution_count": null,
      "id": "53bff08c",
      "metadata": {
        "id": "53bff08c",
        "outputId": "e7310c5c-59ae-4a0e-8156-349eaa17df6f"
      },
      "outputs": [
        {
          "name": "stdout",
          "output_type": "stream",
          "text": [
            "<class 'pandas.core.frame.DataFrame'>\n",
            "RangeIndex: 5000 entries, 0 to 4999\n",
            "Data columns (total 10 columns):\n",
            " #   Column          Non-Null Count  Dtype  \n",
            "---  ------          --------------  -----  \n",
            " 0   participant_id  5000 non-null   object \n",
            " 1   first_name      5000 non-null   object \n",
            " 2   last_name       5000 non-null   object \n",
            " 3   birth_date      5000 non-null   object \n",
            " 4   address         5000 non-null   object \n",
            " 5   phone_number    5000 non-null   object \n",
            " 6   country         5000 non-null   object \n",
            " 7   institute       5000 non-null   object \n",
            " 8   occupation      5000 non-null   object \n",
            " 9   register_time   5000 non-null   float64\n",
            "dtypes: float64(1), object(9)\n",
            "memory usage: 390.8+ KB\n"
          ]
        }
      ],
      "source": [
        "#Import data menggunakan pandas\n",
        "import pandas as pd\n",
        "df_participant = pd.read_csv('https://storage.googleapis.com/dqlab-dataset/dqthon-participants.csv')\n",
        "df_participant.head()\n",
        "df_participant.info()"
      ]
    },
    {
      "cell_type": "markdown",
      "id": "547c647d",
      "metadata": {
        "id": "547c647d"
      },
      "source": [
        "## Transform Bagian I - Kode Pos\n",
        "Ada permintaan datang dari tim logistik bahwa mereka membutuhkan kode pos dari peserta agar pengiriman piala lebih mudah dan cepat sampai. Maka dari itu buatlah kolom baru bernama postal_code yang memuat informasi mengenai kode pos yang diambil dari alamat peserta (kolom address).\n",
        "\n",
        "Diketahui bahwa kode pos berada di paling akhir dari alamat tersebut.\n",
        "\n",
        "Note:\n",
        "Jika regex yang dimasukkan tidak bisa menangkap pattern dari value kolom address maka akan menghasilkan NaN."
      ]
    },
    {
      "cell_type": "code",
      "execution_count": null,
      "id": "b30b3cbe",
      "metadata": {
        "id": "b30b3cbe",
        "outputId": "0ad6e590-2b75-4044-a982-1adccee5b36d"
      },
      "outputs": [
        {
          "data": {
            "text/plain": [
              "0             Gg. Monginsidi No. 08\\nMedan, Aceh 80734\n",
              "1       Gg. Rajawali Timur No. 7\\nPrabumulih, MA 09434\n",
              "2               Jalan Kebonjati No. 0\\nAmbon, SS 57739\n",
              "3      Jl. Yos Sudarso No. 109\\nLubuklinggau, SR 76156\n",
              "4    Jalan Gardujati No. 53\\nKediri, Sulawesi Tenga...\n",
              "Name: address, dtype: object"
            ]
          },
          "execution_count": 5,
          "metadata": {},
          "output_type": "execute_result"
        }
      ],
      "source": [
        "#Data kolom address \n",
        "df_participant['address'].head()"
      ]
    },
    {
      "cell_type": "markdown",
      "id": "f8b572f6",
      "metadata": {
        "id": "f8b572f6"
      },
      "source": [
        "### Membuat kode pos / postal code\n",
        "Menggunakan regex dan fungsi extract"
      ]
    },
    {
      "cell_type": "code",
      "execution_count": null,
      "id": "5a222aa9",
      "metadata": {
        "id": "5a222aa9",
        "outputId": "2e5a911e-ac46-4c85-f169-454c1ce4f253"
      },
      "outputs": [
        {
          "data": {
            "text/plain": [
              "0       80734\n",
              "1       09434\n",
              "2       57739\n",
              "3       76156\n",
              "4       70074\n",
              "        ...  \n",
              "4995    50268\n",
              "4996    57434\n",
              "4997    95312\n",
              "4998    80657\n",
              "4999    41134\n",
              "Name: postal_code, Length: 5000, dtype: object"
            ]
          },
          "execution_count": 8,
          "metadata": {},
          "output_type": "execute_result"
        }
      ],
      "source": [
        "df_participant['postal_code'] = df_participant['address'].str.extract(r'(\\d+)$') \n",
        "df_participant['postal_code']"
      ]
    },
    {
      "cell_type": "markdown",
      "id": "1b54b28d",
      "metadata": {
        "id": "1b54b28d"
      },
      "source": [
        "### Transform Bagian II - Kota\n",
        "Selain kode pos, mereka juga membutuhkan kota dari peserta.\n",
        "\n",
        "Untuk menyediakan informasi tersebut, dibuatlah kolom baru bernama city yang didapat dari kolom address. Diasumsikan bahwa kota merupakan sekumpulan karakter yang terdapat setelah nomor jalan diikuti dengan \\n (newline character) atau dalam bahasa lainnya yaitu enter."
      ]
    },
    {
      "cell_type": "code",
      "execution_count": null,
      "id": "cec3775c",
      "metadata": {
        "id": "cec3775c",
        "outputId": "96e649d9-51fa-44f8-f271-f9a5cc901037"
      },
      "outputs": [
        {
          "data": {
            "text/plain": [
              "0              Medan\n",
              "1         Prabumulih\n",
              "2              Ambon\n",
              "3       Lubuklinggau\n",
              "4             Kediri\n",
              "            ...     \n",
              "4995         Cirebon\n",
              "4996           Bogor\n",
              "4997    Tanjungbalai\n",
              "4998          Manado\n",
              "4999         Bontang\n",
              "Name: city, Length: 5000, dtype: object"
            ]
          },
          "execution_count": 9,
          "metadata": {},
          "output_type": "execute_result"
        }
      ],
      "source": [
        "#Membuat kolom kota / create city column\n",
        "df_participant['city'] = df_participant['address'].str.extract(r'(?<=\\n)(\\w.+)(?=,)') \n",
        "df_participant['city']"
      ]
    },
    {
      "cell_type": "markdown",
      "id": "0b44d958",
      "metadata": {
        "id": "0b44d958"
      },
      "source": [
        "### Transform Bagian III - Github\n",
        "Salah satu parameter untuk mengetahui proyek apa saja yang pernah dikerjakan oleh peserta yaitu dari git repository mereka.\n",
        "\n",
        "Pada kasus ini menggunakan profil github sebagai parameternya. Tugas saya yaitu membuat kolom baru bernama github_profile yang merupakan link profil github dari peserta.\n",
        "\n",
        "Diketahui bahwa profil github mereka merupakan gabungan dari first_name dan last_name yang sudah di-lowercase. "
      ]
    },
    {
      "cell_type": "code",
      "execution_count": null,
      "id": "747896f0",
      "metadata": {
        "id": "747896f0",
        "outputId": "99e2756f-b405-4b77-c242-d247aa0d2335"
      },
      "outputs": [
        {
          "data": {
            "text/plain": [
              "0       https://github.com/citra\n",
              "1        https://github.com/aris\n",
              "2    https://github.com/cornelia\n",
              "3       https://github.com/soleh\n",
              "4        https://github.com/vivi\n",
              "Name: github_profile, dtype: object"
            ]
          },
          "execution_count": 10,
          "metadata": {},
          "output_type": "execute_result"
        }
      ],
      "source": [
        "#Membuat profil github / create github profle column\n",
        "df_participant['github_profile'] = 'https://github.com/' + df_participant['first_name'].str.lower() \n",
        "+ df_participant['last_name'].str.lower()\n",
        "df_participant['github_profile'].head()"
      ]
    },
    {
      "cell_type": "markdown",
      "id": "2c57dfb4",
      "metadata": {
        "id": "2c57dfb4"
      },
      "source": [
        "### Transform Bagian IV - Nomor Handphone\n",
        "Jika kita lihat kembali, ternyata nomor handphone yang ada pada data csv kita memiliki format yang berbeda-beda. Maka dari itu, kita perlu untuk melakukan cleansing pada data nomor handphone agar memiliki format yang sama. Anda sebagai Data Engineer diberi privilege untuk menentukan format nomor handphone yang benar. Pada kasus ini mari samakan formatnya dengan aturan:\n",
        "\n",
        "1. Jika awalan nomor HP berupa angka 62 atau +62 yang merupakan kode telepon Indonesia, maka diterjemahkan ke 0.\n",
        "2. Tidak ada tanda baca seperti kurung buka, kurung tutup, strip⟶ ()-\n",
        "3. Tidak ada spasi pada nomor HP nama kolom untuk menyimpan hasil cleansing pada nomor HP yaitu cleaned_phone_number"
      ]
    },
    {
      "cell_type": "code",
      "execution_count": null,
      "id": "e5a82be0",
      "metadata": {
        "id": "e5a82be0",
        "outputId": "41666657-b6e7-4f8e-be04-a3777f17c120"
      },
      "outputs": [
        {
          "data": {
            "text/plain": [
              "0           (0151) 081 2706\n",
              "1        +62 (036) 461 7027\n",
              "2              089 833 6695\n",
              "3        +62 (418) 329-4756\n",
              "4                0812511835\n",
              "               ...         \n",
              "4995     +62 (050) 795-8398\n",
              "4996    +62 (0443) 963 0055\n",
              "4997    +62 (0408) 216-7689\n",
              "4998    +62 (0751) 380 3352\n",
              "4999     +62 (066) 414 8791\n",
              "Name: phone_number, Length: 5000, dtype: object"
            ]
          },
          "execution_count": 12,
          "metadata": {},
          "output_type": "execute_result"
        }
      ],
      "source": [
        "#Raw Phone Number column\n",
        "\n",
        "df_participant['phone_number']"
      ]
    },
    {
      "cell_type": "code",
      "execution_count": null,
      "id": "b297a330",
      "metadata": {
        "id": "b297a330",
        "outputId": "c894cb80-fa36-46bf-e625-4c4df3e60249"
      },
      "outputs": [
        {
          "name": "stderr",
          "output_type": "stream",
          "text": [
            "<ipython-input-13-7cbb520df4a6>:2: FutureWarning: The default value of regex will change from True to False in a future version.\n",
            "  df_participant['cleaned_phone_number'] = df_participant['phone_number'].str.replace(r'^(\\+62|62)', '0')\n",
            "<ipython-input-13-7cbb520df4a6>:3: FutureWarning: The default value of regex will change from True to False in a future version.\n",
            "  df_participant['cleaned_phone_number'] = df_participant['cleaned_phone_number'].str.replace(r'[()-]', '')\n",
            "<ipython-input-13-7cbb520df4a6>:4: FutureWarning: The default value of regex will change from True to False in a future version.\n",
            "  df_participant['cleaned_phone_number'] = df_participant['cleaned_phone_number'].str.replace(r'\\s+', '')\n"
          ]
        },
        {
          "data": {
            "text/plain": [
              "0    01510812706\n",
              "1    00364617027\n",
              "2     0898336695\n",
              "3    04183294756\n",
              "4     0812511835\n",
              "Name: cleaned_phone_number, dtype: object"
            ]
          },
          "execution_count": 13,
          "metadata": {},
          "output_type": "execute_result"
        }
      ],
      "source": [
        "#Transform Phone Number to Cleaned phone number\n",
        "df_participant['cleaned_phone_number'] = df_participant['phone_number'].str.replace(r'^(\\+62|62)', '0')\n",
        "df_participant['cleaned_phone_number'] = df_participant['cleaned_phone_number'].str.replace(r'[()-]', '')\n",
        "df_participant['cleaned_phone_number'] = df_participant['cleaned_phone_number'].str.replace(r'\\s+', '')\n",
        "df_participant['cleaned_phone_number'].head()"
      ]
    },
    {
      "cell_type": "markdown",
      "id": "4e90ae70",
      "metadata": {
        "id": "4e90ae70"
      },
      "source": [
        "### Transform Bagian V - Nama Tim\n",
        "Dataset saat ini belum memuat nama tim, dan rupanya dari tim Data Analyst membutuhkan informasi terkait nama tim dari masing-masing peserta.\n",
        "\n",
        "Diketahui bahwa nama tim merupakan gabungan nilai dari kolom first_name, last_name, country dan institute.\n",
        "\n",
        "Tugas saya di sini adalah membuat kolom baru dengan nama team_name yang memuat informasi nama tim dari peserta."
      ]
    },
    {
      "cell_type": "code",
      "execution_count": null,
      "id": "df1d19c3",
      "metadata": {
        "id": "df1d19c3",
        "outputId": "3099a58a-cf7a-49a4-f36f-85121613854d"
      },
      "outputs": [
        {
          "data": {
            "text/plain": [
              "0          CN-Georgia-UPM\n",
              "1       AS-Korea Utara-UD\n",
              "2           CH-Komoro-UHP\n",
              "3          SR-Eritrea-PTY\n",
              "4         VA-Aljazair-PHR\n",
              "              ...        \n",
              "4995     ML-Hongaria-ITSN\n",
              "4996     IR-Norwegia-CSHT\n",
              "4997        IN-Ghana-UKWM\n",
              "4998       CN-Gambia-CP(T\n",
              "4999     DM-Singapura-PLK\n",
              "Name: team_name, Length: 5000, dtype: object"
            ]
          },
          "execution_count": 15,
          "metadata": {},
          "output_type": "execute_result"
        }
      ],
      "source": [
        "#Transfor team name\n",
        "def func(col):\n",
        "    abbrev_name = \"%s%s\"%(col['first_name'][0],col['last_name'][0]) #Singkatan dari Nama Depan dan Nama Belakang dengan mengambil huruf pertama\n",
        "    country = col['country']\n",
        "    abbrev_institute = '%s'%(''.join(list(map(lambda word: word[0], col['institute'].split())))) #Singkatan dari value di kolom institute\n",
        "    return \"%s-%s-%s\"%(abbrev_name,country,abbrev_institute)\n",
        "\n",
        "df_participant['team_name'] = df_participant.apply(func, axis=1)\n",
        "df_participant['team_name']"
      ]
    },
    {
      "cell_type": "markdown",
      "id": "ea4ceace",
      "metadata": {
        "id": "ea4ceace"
      },
      "source": [
        "### Transform Bagian VI - Email\n",
        "Setelah dilihat kembali dari data peserta yang dimiliki, ternyata ada satu informasi yang penting namun belum tersedia, yaitu email.\n",
        "\n",
        "Tugas saya di sini diminta untuk menyediakan informasi email dari peserta dengan aturan bahwa format email sebagai berikut:\n",
        "\n",
        "Format email:\n",
        "xxyy@aa.bb.[ac/com].[cc]\n",
        "\n",
        "Keterangan:\n",
        "xx -> nama depan (first_name) dalam lowercase\n",
        "yy -> nama belakang (last_name) dalam lowercase\n",
        "aa -> nama institusi\n",
        "\n",
        "Untuk nilai bb, dan cc mengikuti nilai dari aa. \n",
        "\n",
        "Aturannya:\n",
        "- Jika institusi nya merupakan Universitas, maka\n",
        "  bb -> gabungan dari huruf pertama pada setiap kata dari nama Universitas dalam lowercase\n",
        "  Kemudian, diikuti dengan .ac yang menandakan akademi/institusi belajar dan diikuti dengan pattern cc\n",
        "- Jika institusi bukan merupakan Universitas, maka\n",
        "  bb -> gabungan dari huruf pertama pada setiap kata dari nama Universitas dalam lowercase\n",
        "  Kemudian, diikuti dengan .com. Perlu diketahui bahwa pattern cc tidak berlaku pada kondisi ini\n",
        "\n",
        "cc -> merupakan negara asal peserta, adapun aturannya:\n",
        "- Jika banyaknya kata pada negara tersebut lebih dari 1 maka ambil singkatan dari negara tersebut dalam lowercase\n",
        "- Namun, jika banyaknya kata hanya 1 maka ambil 3 huruf terdepan dari negara tersebut dalam lowercase\n",
        "\n",
        "Contoh:\n",
        "  Nama depan: Citra\n",
        "  Nama belakang: Nurdiyanti\n",
        "  Institusi: UD Prakasa Mandasari\n",
        "  Negara: Georgia\n",
        "  \n",
        " #### Maka, Email nya: citranurdiyanti@upm.geo\n",
        "  -----------------------------------\n",
        "  Nama depan: Aris\n",
        "  Nama belakang: Setiawan\n",
        "  Institusi: Universitas Diponegoro\n",
        "  Negara: Korea Utara\n",
        "  Maka, Email nya: arissetiawan@ud.ac.ku"
      ]
    },
    {
      "cell_type": "code",
      "execution_count": null,
      "id": "f8526fd0",
      "metadata": {
        "id": "f8526fd0",
        "outputId": "8af82705-7b40-4948-9354-9c68cd2f17cf"
      },
      "outputs": [
        {
          "data": {
            "text/plain": [
              "0         citranurdiyanti@upm.com\n",
              "1           arissetiawan@ud.ac.ku\n",
              "2       corneliahandayani@uhp.com\n",
              "3             solehrajasa@pty.com\n",
              "4              viviastuti@phr.com\n",
              "                  ...            \n",
              "4995       mitralatupono@itsn.com\n",
              "4996      indahrahmawati@csht.com\n",
              "4997    irsadnajmudin@ukwm.ac.gha\n",
              "4998       carlanasyidah@cp(t.com\n",
              "4999       darmanamaryadi@plk.com\n",
              "Name: email, Length: 5000, dtype: object"
            ]
          },
          "execution_count": 16,
          "metadata": {},
          "output_type": "execute_result"
        }
      ],
      "source": [
        "#Transform email\n",
        "def func(col):\n",
        "    first_name_lower = col['first_name'].lower()\n",
        "    last_name_lower = col['last_name'].lower()\n",
        "    institute = ''.join(list(map(lambda word: word[0], col['institute'].lower().split()))) #Singkatan dari nama perusahaan dalam lowercase\n",
        "\n",
        "    if 'Universitas' in col['institute']:\n",
        "        if len(col['country'].split()) > 1: #Kondisi untuk mengecek apakah jumlah kata dari country lebih dari 1\n",
        "            country = ''.join(list(map(lambda word: word[0], col['country'].lower().split())))\n",
        "        else:\n",
        "            country = col['country'][:3].lower()\n",
        "        return \"%s%s@%s.ac.%s\"%(first_name_lower,last_name_lower,institute,country)\n",
        "\n",
        "    return \"%s%s@%s.com\"%(first_name_lower,last_name_lower,institute)\n",
        "\n",
        "df_participant['email'] = df_participant.apply(func, axis=1)\n",
        "df_participant['email']"
      ]
    },
    {
      "cell_type": "markdown",
      "id": "cca5c95f",
      "metadata": {
        "id": "cca5c95f"
      },
      "source": [
        "### Transform Bagian VII - Tanggal Lahir\n",
        "\n",
        "MySQL merupakan salah satu database yang sangat populer dan digunakan untuk menyimpan data berupa tabel, termasuk data hasil pengolahan yang sudah kita lakukan ini nantinya bisa dimasukkan ke MySQL.\n",
        "\n",
        "Meskipun begitu, ada suatu aturan dari MySQL terkait format tanggal yang bisa mereka terima yaitu YYYY-MM-DD dengan keterangan:\n",
        "\n",
        "YYYY: 4 digit yang menandakan tahun\n",
        "MM: 2 digit yang menandakan bulan\n",
        "DD: 2 digit yang menandakan tanggal\n",
        "Contohnya yaitu: 2021-04-07\n",
        "\n",
        "Jika kita lihat kembali pada kolom tanggal lahir terlihat bahwa nilainya belum sesuai dengan format DATE dari MySQL\n",
        "\n",
        "(Lihat lebih detail di: https://www.mysqltutorial.org/mysql-date/).\n",
        "\n",
        "Oleh karena itu, lakukanlah formatting terhadap kolom birth_date menjadi YYYY-MM-DD dan simpan di kolom yang sama."
      ]
    },
    {
      "cell_type": "code",
      "execution_count": null,
      "id": "c24231e3",
      "metadata": {
        "id": "c24231e3",
        "outputId": "b68de457-1371-46ec-c57e-b99d6fd20485"
      },
      "outputs": [
        {
          "data": {
            "text/plain": [
              "0    05 Feb 1991\n",
              "1    11 Jan 1993\n",
              "2    31 Jul 1993\n",
              "3    04 Nov 1991\n",
              "4    22 Jan 2003\n",
              "Name: birth_date, dtype: object"
            ]
          },
          "execution_count": 17,
          "metadata": {},
          "output_type": "execute_result"
        }
      ],
      "source": [
        "#Raw data birth_date column\n",
        "df_participant['birth_date'].head()"
      ]
    },
    {
      "cell_type": "code",
      "execution_count": null,
      "id": "89385cf9",
      "metadata": {
        "id": "89385cf9",
        "outputId": "23a4c722-b7fc-402d-d692-00fc3a485ee7"
      },
      "outputs": [
        {
          "data": {
            "text/plain": [
              "0      1991-02-05\n",
              "1      1993-01-11\n",
              "2      1993-07-31\n",
              "3      1991-11-04\n",
              "4      2003-01-22\n",
              "          ...    \n",
              "4995   2000-04-27\n",
              "4996   1996-03-06\n",
              "4997   2003-02-14\n",
              "4998   1994-08-22\n",
              "4999   2002-02-09\n",
              "Name: birth_date, Length: 5000, dtype: datetime64[ns]"
            ]
          },
          "execution_count": 18,
          "metadata": {},
          "output_type": "execute_result"
        }
      ],
      "source": [
        "df_participant['birth_date'] = pd.to_datetime(df_participant['birth_date'], format='%d %b %Y')\n",
        "df_participant['birth_date']"
      ]
    },
    {
      "cell_type": "markdown",
      "id": "d4b072ca",
      "metadata": {
        "id": "d4b072ca"
      },
      "source": [
        "### Transform Bagian VII - Tanggal Daftar Kompetisi\n",
        "Selain punya aturan mengenai format DATE, MySQL juga memberi aturan pada data yang bertipe DATETIME yaitu YYYY-MM-DD HH:mm:ss dengan keterangan:\n",
        "\n",
        "YYYY: 4 digit yang menandakan tahun\n",
        "MM: 2 digit yang menandakan bulan\n",
        "DD: 2 digit yang menandakan tanggal\n",
        "HH: 2 digit yang menandakan jam\n",
        "mm: 2 digit yang menandakan menit\n",
        "ss: 2 digit yang menandakan detik\n",
        "Contohnya yaitu: 2021-04-07 15:10:55\n",
        "\n",
        "Karena data kita mengenai waktu registrasi peserta (register_time) belum sesuai format yang seharusnya.\n",
        "\n",
        "Maka dari itu, tugas saya yaitu di sini adalah merubah register_time ke format DATETIME sesuai dengan aturan dari MySQL.\n",
        "\n",
        "Lalu menyimpan hasil tersebut ke kolom register_at."
      ]
    },
    {
      "cell_type": "code",
      "execution_count": null,
      "id": "75b849cd",
      "metadata": {
        "id": "75b849cd",
        "outputId": "91a5f31a-267f-4999-b869-85d4f9dad378"
      },
      "outputs": [
        {
          "data": {
            "text/plain": [
              "0       1.617634e+09\n",
              "1       1.617634e+09\n",
              "2       1.617634e+09\n",
              "3       1.617634e+09\n",
              "4       1.617634e+09\n",
              "            ...     \n",
              "4995    1.617634e+09\n",
              "4996    1.617634e+09\n",
              "4997    1.617634e+09\n",
              "4998    1.617634e+09\n",
              "4999    1.617634e+09\n",
              "Name: register_time, Length: 5000, dtype: float64"
            ]
          },
          "execution_count": 20,
          "metadata": {},
          "output_type": "execute_result"
        }
      ],
      "source": [
        "df_participant['register_time']"
      ]
    },
    {
      "cell_type": "code",
      "execution_count": null,
      "id": "535a2c7f",
      "metadata": {
        "id": "535a2c7f",
        "outputId": "951fde84-0a98-4859-842b-f076c51f2f76"
      },
      "outputs": [
        {
          "data": {
            "text/plain": [
              "0      2021-04-05 14:47:26\n",
              "1      2021-04-05 14:46:58\n",
              "2      2021-04-05 14:47:15\n",
              "3      2021-04-05 14:47:14\n",
              "4      2021-04-05 14:46:50\n",
              "               ...        \n",
              "4995   2021-04-05 14:46:16\n",
              "4996   2021-04-05 14:46:48\n",
              "4997   2021-04-05 14:46:06\n",
              "4998   2021-04-05 14:46:45\n",
              "4999   2021-04-05 14:46:51\n",
              "Name: register_at, Length: 5000, dtype: datetime64[ns]"
            ]
          },
          "execution_count": 21,
          "metadata": {},
          "output_type": "execute_result"
        }
      ],
      "source": [
        "df_participant['register_at'] = pd.to_datetime(df_participant['register_time'], unit='s')\n",
        "df_participant['register_at'] "
      ]
    },
    {
      "cell_type": "markdown",
      "id": "5846c763",
      "metadata": {
        "id": "5846c763"
      },
      "source": [
        "## Summary \n",
        "Kesimpulan: \n",
        "\n",
        "Jika dilihat kembali, dataset saat ini sudah berbeda dengan saat proses extract sebelumnya. Ada beberapa kolom tambahan yang memanfaatkan nilai kolom lain.\n",
        "\n",
        "Dataset saat ini memuat kolom:\n",
        "\n",
        "participant_id: ID dari peserta/partisipan hackathon. \n",
        "Kolom ini bersifat unique sehingga antar peserta pasti memiliki ID yang berbeda\n",
        "\n",
        "first_name: nama depan peserta\n",
        "\n",
        "last_name: nama belakang peserta\n",
        "\n",
        "birth_date: tanggal lahir peserta (sudah diformat ke YYYY-MM-DD)\n",
        "\n",
        "address: alamat tempat tinggal peserta\n",
        "\n",
        "phone_number: nomor hp/telepon peserta\n",
        "\n",
        "country: negara asal peserta\n",
        "\n",
        "institute: institusi peserta saat ini, bisa berupa nama perusahaan maupun nama universitas\n",
        "\n",
        "occupation: pekerjaan peserta saat ini\n",
        "\n",
        "register_time: waktu peserta melakukan pendaftaran hackathon dalam second\n",
        "\n",
        "team_name: nama tim peserta (gabungan dari nama depan, nama belakang, negara dan institusi)\n",
        "postal_code: kode pos alamat peserta (diambil dari kolom alamat)\n",
        "\n",
        "city: kota peserta (diambil dari kolom alamat)\n",
        "\n",
        "github_profile: link profil github peserta (gabungan dari nama depan, dan nama belakang)\n",
        "\n",
        "email: alamat email peserta (gabungan dari nama depan, nama belakang, institusi dan negara)\n",
        "\n",
        "cleaned_phone_number: nomor hp/telepon peserta (sudah lebih sesuai dengan format nomor telepon)\n",
        "\n",
        "register_at: tanggal dan waktu peserta melakukan pendaftaran (sudah dalam format DATETIME)"
      ]
    },
    {
      "cell_type": "markdown",
      "source": [
        "# Load\n",
        "Pada bagian load ini, data yang sudah ditransformasi sedemikian rupa sehingga sesuai dengan kebutuhan tim analyst dimasukkan kembali ke database yaitu Data Warehouse (DWH). Biasanya, dilakukan pendefinisian skema database terlebih dahulu seperti:\n",
        "\n",
        "Nama kolom\n",
        "Tipe kolom\n",
        "Apakah primary key, unique key, index atau bukan\n",
        "Panjang kolomnya\n",
        "Karena umumnya Data Warehouse merupakan database yang terstruktur sehingga mereka memerlukan skema sebelum datanya dimasukkan.\n",
        "\n",
        "Pandas sudah menyediakan fungsi untuk memasukkan data ke database yaitu to_sql().\n",
        "\n",
        "Detail dari fungsi tersebut bisa dilihat pada dokumentasi Pandas: https://pandas.pydata.org/docs/reference/api/pandas.DataFrame.to_sql.html"
      ],
      "metadata": {
        "id": "YhspGxvnRIs6"
      },
      "id": "YhspGxvnRIs6"
    }
  ],
  "metadata": {
    "kernelspec": {
      "display_name": "Python 3",
      "language": "python",
      "name": "python3"
    },
    "language_info": {
      "codemirror_mode": {
        "name": "ipython",
        "version": 3
      },
      "file_extension": ".py",
      "mimetype": "text/x-python",
      "name": "python",
      "nbconvert_exporter": "python",
      "pygments_lexer": "ipython3",
      "version": "3.9.2"
    },
    "colab": {
      "name": "simple project ETL .ipynb",
      "provenance": [],
      "collapsed_sections": []
    }
  },
  "nbformat": 4,
  "nbformat_minor": 5
}